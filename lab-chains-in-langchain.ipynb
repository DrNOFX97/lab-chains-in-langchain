{
 "cells": [
  {
   "cell_type": "markdown",
   "id": "52824b89-532a-4e54-87e9-1410813cd39e",
   "metadata": {},
   "source": [
    "# Lab | Chains in LangChain\n",
    "\n",
    "## Outline\n",
    "\n",
    "* LLMChain\n",
    "* Sequential Chains\n",
    "  * SimpleSequentialChain\n",
    "  * SequentialChain\n",
    "* Router Chain"
   ]
  },
  {
   "cell_type": "code",
   "execution_count": 1,
   "id": "541eb2f1",
   "metadata": {},
   "outputs": [],
   "source": [
    "import warnings\n",
    "warnings.filterwarnings('ignore')"
   ]
  },
  {
   "cell_type": "code",
   "execution_count": 2,
   "id": "b7ed03ed-1322-49e3-b2a2-33e94fb592ef",
   "metadata": {
    "tags": []
   },
   "outputs": [],
   "source": [
    "import os\n",
    "\n",
    "from dotenv import load_dotenv, find_dotenv\n",
    "_ = load_dotenv(find_dotenv())\n",
    "\n",
    "OPENAI_API_KEY  = os.getenv('OPENAI_API_KEY')\n",
    "HUGGINGFACEHUB_API_TOKEN = os.getenv('HUGGINGFACEHUB_API_TOKEN')"
   ]
  },
  {
   "cell_type": "code",
   "execution_count": 3,
   "id": "b84e441b",
   "metadata": {
    "tags": []
   },
   "outputs": [],
   "source": [
    "#!pip install pandas"
   ]
  },
  {
   "cell_type": "code",
   "execution_count": 4,
   "id": "974acf8e-8f88-42de-88f8-40a82cb58e8b",
   "metadata": {
    "tags": []
   },
   "outputs": [
    {
     "name": "stdout",
     "output_type": "stream",
     "text": [
      "CSV file loaded successfully.\n",
      "                   Product                                             Review\n",
      "0     Queen Size Sheet Set  I ordered a king size set. My only criticism w...\n",
      "1   Waterproof Phone Pouch  I loved the waterproof sac, although the openi...\n",
      "2      Luxury Air Mattress  This mattress had a small hole in the top of i...\n",
      "3           Pillows Insert  This is the best throw pillow fillers on Amazo...\n",
      "4  Milk Frother Handheld\\n   I loved this product. But they only seem to l...\n"
     ]
    }
   ],
   "source": [
    "import pandas as pd\n",
    "\n",
    "# Specify the URL of the CSV file\n",
    "url = 'https://github.com/ironhack-labs/lab-chains-in-langchain/raw/main/data/Data.csv'\n",
    "\n",
    "# Read CSV with specific parameters\n",
    "try:\n",
    "    df = pd.read_csv(url, delimiter=',')  # Adjust delimiter if necessary\n",
    "    print(\"CSV file loaded successfully.\")\n",
    "    print(df.head())  # Print first few rows to verify\n",
    "except Exception as e:\n",
    "    print(f\"Error loading CSV file: {e}\")\n"
   ]
  },
  {
   "cell_type": "code",
   "execution_count": 5,
   "id": "b7a09c35",
   "metadata": {
    "tags": []
   },
   "outputs": [
    {
     "data": {
      "text/html": [
       "<div>\n",
       "<style scoped>\n",
       "    .dataframe tbody tr th:only-of-type {\n",
       "        vertical-align: middle;\n",
       "    }\n",
       "\n",
       "    .dataframe tbody tr th {\n",
       "        vertical-align: top;\n",
       "    }\n",
       "\n",
       "    .dataframe thead th {\n",
       "        text-align: right;\n",
       "    }\n",
       "</style>\n",
       "<table border=\"1\" class=\"dataframe\">\n",
       "  <thead>\n",
       "    <tr style=\"text-align: right;\">\n",
       "      <th></th>\n",
       "      <th>Product</th>\n",
       "      <th>Review</th>\n",
       "    </tr>\n",
       "  </thead>\n",
       "  <tbody>\n",
       "    <tr>\n",
       "      <th>0</th>\n",
       "      <td>Queen Size Sheet Set</td>\n",
       "      <td>I ordered a king size set. My only criticism w...</td>\n",
       "    </tr>\n",
       "    <tr>\n",
       "      <th>1</th>\n",
       "      <td>Waterproof Phone Pouch</td>\n",
       "      <td>I loved the waterproof sac, although the openi...</td>\n",
       "    </tr>\n",
       "    <tr>\n",
       "      <th>2</th>\n",
       "      <td>Luxury Air Mattress</td>\n",
       "      <td>This mattress had a small hole in the top of i...</td>\n",
       "    </tr>\n",
       "    <tr>\n",
       "      <th>3</th>\n",
       "      <td>Pillows Insert</td>\n",
       "      <td>This is the best throw pillow fillers on Amazo...</td>\n",
       "    </tr>\n",
       "    <tr>\n",
       "      <th>4</th>\n",
       "      <td>Milk Frother Handheld\\n</td>\n",
       "      <td>I loved this product. But they only seem to l...</td>\n",
       "    </tr>\n",
       "  </tbody>\n",
       "</table>\n",
       "</div>"
      ],
      "text/plain": [
       "                   Product                                             Review\n",
       "0     Queen Size Sheet Set  I ordered a king size set. My only criticism w...\n",
       "1   Waterproof Phone Pouch  I loved the waterproof sac, although the openi...\n",
       "2      Luxury Air Mattress  This mattress had a small hole in the top of i...\n",
       "3           Pillows Insert  This is the best throw pillow fillers on Amazo...\n",
       "4  Milk Frother Handheld\\n   I loved this product. But they only seem to l..."
      ]
     },
     "execution_count": 5,
     "metadata": {},
     "output_type": "execute_result"
    }
   ],
   "source": [
    "df.head()"
   ]
  },
  {
   "cell_type": "markdown",
   "id": "b940ce7c",
   "metadata": {},
   "source": [
    "## LLMChain"
   ]
  },
  {
   "cell_type": "code",
   "execution_count": 6,
   "id": "82bb141c-8af0-46de-b84a-2fc900373cfe",
   "metadata": {},
   "outputs": [],
   "source": [
    "#!pip install langchain-openai langchain-core langchain"
   ]
  },
  {
   "cell_type": "code",
   "execution_count": 7,
   "id": "e92dff22",
   "metadata": {
    "tags": []
   },
   "outputs": [],
   "source": [
    "from langchain_openai import ChatOpenAI\n",
    "from langchain_core.prompts import ChatPromptTemplate\n",
    "from langchain.chains import LLMChain"
   ]
  },
  {
   "cell_type": "code",
   "execution_count": 8,
   "id": "943237a7",
   "metadata": {},
   "outputs": [],
   "source": [
    "#Replace None by your own value and justify\n",
    "llm = ChatOpenAI(temperature=0.5)\n",
    "\n",
    "# Justification:\n",
    "# A temperature of 0.5 balances between generating diverse responses\n",
    "# and maintaining coherence. It introduces a moderate level of randomness,\n",
    "# allowing for varied responses without straying too far from relevant content."
   ]
  },
  {
   "cell_type": "code",
   "execution_count": 9,
   "id": "cdcdb42d",
   "metadata": {},
   "outputs": [
    {
     "name": "stdout",
     "output_type": "stream",
     "text": [
      "Prompt template constructed successfully.\n"
     ]
    }
   ],
   "source": [
    "# Define a variable placeholder for product description\n",
    "product_description = \"{product}\"\n",
    "\n",
    "# Construct the prompt template\n",
    "prompt = ChatPromptTemplate.from_template(\n",
    "    f\"Write a query that would take a variable to describe any product.\\n\\n\"\n",
    "    f\"Describe the product: {product_description}\\n\\n\"\n",
    "    f\"Example: Describe the features, specifications, and benefits of {product_description}.\"\n",
    ")\n",
    "print(\"Prompt template constructed successfully.\")\n"
   ]
  },
  {
   "cell_type": "code",
   "execution_count": 10,
   "id": "d7abc20b",
   "metadata": {
    "scrolled": true
   },
   "outputs": [
    {
     "name": "stderr",
     "output_type": "stream",
     "text": [
      "/opt/anaconda3/lib/python3.12/site-packages/langchain_core/_api/deprecation.py:139: LangChainDeprecationWarning: The class `LLMChain` was deprecated in LangChain 0.1.17 and will be removed in 1.0. Use RunnableSequence, e.g., `prompt | llm` instead.\n",
      "  warn_deprecated(\n"
     ]
    }
   ],
   "source": [
    "chain = LLMChain(llm=llm, prompt=prompt)"
   ]
  },
  {
   "cell_type": "code",
   "execution_count": 11,
   "id": "ad44d1fb",
   "metadata": {
    "scrolled": true
   },
   "outputs": [
    {
     "data": {
      "text/plain": [
       "AIMessage(content='A queen size sheet set typically includes a fitted sheet, a flat sheet, and two pillowcases. These sheet sets are designed to fit a standard queen size mattress, which measures 60 inches by 80 inches. Queen size sheet sets come in a variety of materials, such as cotton, microfiber, and linen, and can be found in a wide range of colors and patterns to suit any decor style.', response_metadata={'token_usage': {'completion_tokens': 82, 'prompt_tokens': 11, 'total_tokens': 93}, 'model_name': 'gpt-3.5-turbo-0125', 'system_fingerprint': None, 'finish_reason': 'stop', 'logprobs': None}, id='run-fb5a5cc1-ded9-4f7b-99c5-30cbeaf32cd5-0', usage_metadata={'input_tokens': 11, 'output_tokens': 82, 'total_tokens': 93})"
      ]
     },
     "execution_count": 11,
     "metadata": {},
     "output_type": "execute_result"
    }
   ],
   "source": [
    "product = \"Queen Size Sheet Set\"\n",
    "#chain.run(product)\n",
    "llm.invoke(product)\n"
   ]
  },
  {
   "cell_type": "code",
   "execution_count": 12,
   "id": "ca8531d9-4645-417f-ad48-72ec16edccca",
   "metadata": {},
   "outputs": [],
   "source": [
    "from langchain.chains import LLMChain, SimpleSequentialChain\n",
    "from langchain_core.prompts import PromptTemplate"
   ]
  },
  {
   "cell_type": "code",
   "execution_count": 13,
   "id": "b385e83e-5a94-4d7f-b778-860349737ea1",
   "metadata": {},
   "outputs": [],
   "source": [
    "llm = ChatOpenAI(temperature=0.9)\n",
    "\n",
    "# prompt template 1\n",
    "prompt = PromptTemplate(\n",
    "    input_variables=[\"product\"],\n",
    "    template=\"What is a good name for a company that makes {product}?\",\n",
    ")\n",
    "# Chain 1\n",
    "chain_one = LLMChain(llm=llm, prompt=prompt)"
   ]
  },
  {
   "cell_type": "code",
   "execution_count": 14,
   "id": "4449fba1-a306-4426-98bf-12a04fa95612",
   "metadata": {},
   "outputs": [],
   "source": [
    "# prompt template 2\n",
    "second_prompt = PromptTemplate(\n",
    "    input_variables=[\"company_name\"],\n",
    "    template=\"Write a description of a logo for this company: {company_name}, the logo should not contain text at all \",\n",
    ")\n",
    "# Chain 2\n",
    "chain_two = LLMChain(llm=llm, prompt=second_prompt)"
   ]
  },
  {
   "cell_type": "code",
   "execution_count": 15,
   "id": "58b722ad-ffc3-4ddd-a670-20814e8b1331",
   "metadata": {},
   "outputs": [],
   "source": [
    "# Create the SimpleSequentialChain\n",
    "overall_simple_chain = SimpleSequentialChain(\n",
    "    chains=[chain_one, chain_two], verbose=True\n",
    ")"
   ]
  },
  {
   "cell_type": "code",
   "execution_count": 16,
   "id": "ad8c84e1-1840-4107-8be5-45dcb208e7e9",
   "metadata": {},
   "outputs": [
    {
     "name": "stderr",
     "output_type": "stream",
     "text": [
      "/opt/anaconda3/lib/python3.12/site-packages/langchain_core/_api/deprecation.py:139: LangChainDeprecationWarning: The method `Chain.run` was deprecated in langchain 0.1.0 and will be removed in 0.3.0. Use invoke instead.\n",
      "  warn_deprecated(\n"
     ]
    },
    {
     "name": "stdout",
     "output_type": "stream",
     "text": [
      "\n",
      "\n",
      "\u001b[1m> Entering new SimpleSequentialChain chain...\u001b[0m\n",
      "\u001b[36;1m\u001b[1;3mRegal Rest Bedding\u001b[0m\n",
      "\u001b[33;1m\u001b[1;3mThe logo for Regal Rest Bedding features a stylized, elegant bed frame with intricate detailing and luxurious accents. The design conveys a sense of sophistication and comfort, with a regal crown perched on top of the bed frame symbolizing a feeling of royalty and luxury. The color scheme is a rich combination of deep blues, golds, and purples, adding to the opulent and lavish aesthetic of the logo. Overall, the logo exudes a sense of refined elegance and high-quality bedding products.\u001b[0m\n",
      "\n",
      "\u001b[1m> Finished chain.\u001b[0m\n"
     ]
    },
    {
     "data": {
      "text/plain": [
       "'The logo for Regal Rest Bedding features a stylized, elegant bed frame with intricate detailing and luxurious accents. The design conveys a sense of sophistication and comfort, with a regal crown perched on top of the bed frame symbolizing a feeling of royalty and luxury. The color scheme is a rich combination of deep blues, golds, and purples, adding to the opulent and lavish aesthetic of the logo. Overall, the logo exudes a sense of refined elegance and high-quality bedding products.'"
      ]
     },
     "execution_count": 16,
     "metadata": {},
     "output_type": "execute_result"
    }
   ],
   "source": [
    "overall_simple_chain.invoke(product)"
   ]
  },
  {
   "cell_type": "markdown",
   "id": "0dd59bda-9d02-44e7-b3d6-2bec61b99d8f",
   "metadata": {},
   "source": [
    "**Repeat the above twice for different products**"
   ]
  },
  {
   "cell_type": "code",
   "execution_count": 21,
   "id": "0d6321ff-8a8d-413d-9928-c26525ad05ee",
   "metadata": {},
   "outputs": [
    {
     "name": "stdout",
     "output_type": "stream",
     "text": [
      "\n",
      "\n",
      "\u001b[1m> Entering new SimpleSequentialChain chain...\u001b[0m\n",
      "\u001b[36;1m\u001b[1;3mOh Queen Size Sheet Set, so regal and grand\n",
      "In your soft embrace, I rest my weary head\n",
      "Your silky touch, like a gentle caress\n",
      "Wrapping me in warmth and comfort, I am truly blessed\n",
      "\n",
      "Your vibrant colors, a sight to behold\n",
      "Transforming my room into a palace of gold\n",
      "With every thread, woven with care\n",
      "You're a luxurious treat, beyond compare\n",
      "\n",
      "As I slip between your cool, crisp sheets\n",
      "I feel a sense of peace and complete\n",
      "Dreams that dance in my mind's eye\n",
      "As I drift off to sleep, under your watchful sky\n",
      "\n",
      "Oh Queen Size Sheet Set, a treasure to behold\n",
      "You make my bed a sanctuary, a haven to unfold\n",
      "Thank you for your beauty, your grace, your charm\n",
      "You're truly a queen, in my humble arms.\u001b[0m\n",
      "\u001b[33;1m\u001b[1;3m\n",
      "\n",
      "In every stitch, in every fold\n",
      "You bring a touch of elegance, so bold\n",
      "Oh Queen Size Sheet Set, you're more than just a bed\n",
      "You're a royal treat, a crown upon my head\n",
      "\n",
      "With every wash, you stay pristine\n",
      "A timeless beauty, fit for a queen\n",
      "I'll cherish you forevermore\n",
      "Oh Queen Size Sheet Set, my heart you adore\n",
      "\n",
      "So I'll lay my head, and rest my soul\n",
      "In the comfort of your regal hold\n",
      "Oh Queen Size Sheet Set, my loyal friend\n",
      "I'll be with you until the very end\n",
      "\n",
      "Oh Queen Size Sheet Set, so regal and grand\n",
      "In your soft embrace, I forever stand\n",
      "Thank you for being my royal delight\n",
      "Oh Queen Size Sheet Set, you shine so bright.\u001b[0m\n",
      "\n",
      "\u001b[1m> Finished chain.\u001b[0m\n"
     ]
    },
    {
     "data": {
      "text/plain": [
       "{'input': 'Queen Size Sheet Set',\n",
       " 'output': \"\\n\\nIn every stitch, in every fold\\nYou bring a touch of elegance, so bold\\nOh Queen Size Sheet Set, you're more than just a bed\\nYou're a royal treat, a crown upon my head\\n\\nWith every wash, you stay pristine\\nA timeless beauty, fit for a queen\\nI'll cherish you forevermore\\nOh Queen Size Sheet Set, my heart you adore\\n\\nSo I'll lay my head, and rest my soul\\nIn the comfort of your regal hold\\nOh Queen Size Sheet Set, my loyal friend\\nI'll be with you until the very end\\n\\nOh Queen Size Sheet Set, so regal and grand\\nIn your soft embrace, I forever stand\\nThank you for being my royal delight\\nOh Queen Size Sheet Set, you shine so bright.\"}"
      ]
     },
     "execution_count": 21,
     "metadata": {},
     "output_type": "execute_result"
    }
   ],
   "source": [
    "llm = ChatOpenAI(temperature=0.9)\n",
    "\n",
    "# prompt template 1\n",
    "prompt = PromptTemplate(\n",
    "    input_variables=[\"product\"],\n",
    "    template=\"Write a poem for this {product}?\",\n",
    ")\n",
    "# Chain 1\n",
    "chain_one = LLMChain(llm=llm, prompt=prompt)\n",
    "\n",
    "# prompt template 2\n",
    "second_prompt = PromptTemplate(\n",
    "    input_variables=[\"company_name\"],\n",
    "    template=\"Write a song for this company: {company_name}\",\n",
    ")\n",
    "# Chain 2\n",
    "chain_two = LLMChain(llm=llm, prompt=second_prompt)\n",
    "\n",
    "# Create the SimpleSequentialChain\n",
    "overall_simple_chain = SimpleSequentialChain(\n",
    "    chains=[chain_one, chain_two], verbose=True\n",
    ")\n",
    "\n",
    "overall_simple_chain.invoke(product)"
   ]
  },
  {
   "cell_type": "code",
   "execution_count": 22,
   "id": "033d1afc-5cfe-4ab2-9d4d-792eb63ffa3e",
   "metadata": {},
   "outputs": [
    {
     "name": "stdout",
     "output_type": "stream",
     "text": [
      "\n",
      "\n",
      "\u001b[1m> Entering new SimpleSequentialChain chain...\u001b[0m\n",
      "\u001b[36;1m\u001b[1;3mThere are several different models of Queen Size Sheet Set available in the market. Some popular models include:\n",
      "\n",
      "1. Percale Sheet Set: Made from tightly woven cotton fabric, percale sheets are crisp, cool, and durable. They are a popular choice for those who prefer a classic, hotel-like feel.\n",
      "\n",
      "2. Sateen Sheet Set: Sateen sheets are made from cotton with a satin weave, giving them a smooth and silky feel. They are known for their luxurious softness and lustrous finish.\n",
      "\n",
      "3. Microfiber Sheet Set: Microfiber sheets are made from a blend of polyester fibers, making them incredibly soft, lightweight, and wrinkle-resistant. They are a budget-friendly option that is easy to care for.\n",
      "\n",
      "4. Flannel Sheet Set: Flannel sheets are made from brushed cotton fabric, giving them a cozy and warm feel. They are a popular choice for colder months or those who prefer a softer, more textured sheet.\n",
      "\n",
      "5. Bamboo Sheet Set: Bamboo sheets are made from bamboo fibers, known for their softness, breathability, and eco-friendly properties. They are a sustainable option that is ideal for those with sensitive skin or allergies.\n",
      "\n",
      "These are just a few examples of the main models of Queen Size Sheet Sets available in the market. Each type offers its own unique features and benefits, so it's important to consider your personal preferences and needs when selecting the right set for your bed.\u001b[0m\n",
      "\u001b[33;1m\u001b[1;3mLooking for the perfect Queen Size Sheet Set for your bed? Look no further! Our company offers a wide range of high-quality sheet sets to suit every preference and budget.\n",
      "\n",
      "From the crisp and durable Percale Sheet Set to the luxurious and silky Sateen Sheet Set, we have something for everyone. If you're looking for a budget-friendly option that is easy to care for, our Microfiber Sheet Set is the perfect choice. Prefer something cozy and warm? Our Flannel Sheet Set will keep you snug during the colder months.\n",
      "\n",
      "For those with sensitive skin or allergies, our Bamboo Sheet Set is a sustainable and eco-friendly option that offers unbeatable softness and breathability. No matter your needs, we have the perfect Queen Size Sheet Set for you.\n",
      "\n",
      "Don't compromise on comfort and quality – choose our company for all your bedding needs. Shop now and experience the difference!\u001b[0m\n",
      "\n",
      "\u001b[1m> Finished chain.\u001b[0m\n"
     ]
    },
    {
     "data": {
      "text/plain": [
       "{'input': 'Queen Size Sheet Set',\n",
       " 'output': \"Looking for the perfect Queen Size Sheet Set for your bed? Look no further! Our company offers a wide range of high-quality sheet sets to suit every preference and budget.\\n\\nFrom the crisp and durable Percale Sheet Set to the luxurious and silky Sateen Sheet Set, we have something for everyone. If you're looking for a budget-friendly option that is easy to care for, our Microfiber Sheet Set is the perfect choice. Prefer something cozy and warm? Our Flannel Sheet Set will keep you snug during the colder months.\\n\\nFor those with sensitive skin or allergies, our Bamboo Sheet Set is a sustainable and eco-friendly option that offers unbeatable softness and breathability. No matter your needs, we have the perfect Queen Size Sheet Set for you.\\n\\nDon't compromise on comfort and quality – choose our company for all your bedding needs. Shop now and experience the difference!\"}"
      ]
     },
     "execution_count": 22,
     "metadata": {},
     "output_type": "execute_result"
    }
   ],
   "source": [
    "llm = ChatOpenAI(temperature=0.9)\n",
    "\n",
    "# prompt template 1\n",
    "prompt = PromptTemplate(\n",
    "    input_variables=[\"product\"],\n",
    "    template=\"What are the main models of the {product}?\",\n",
    ")\n",
    "# Chain 1\n",
    "chain_one = LLMChain(llm=llm, prompt=prompt)\n",
    "\n",
    "# prompt template 2\n",
    "second_prompt = PromptTemplate(\n",
    "    input_variables=[\"company_name\"],\n",
    "    template=\"Write an advert for this company: {company_name}, highlight its main goals\",\n",
    ")\n",
    "# Chain 2\n",
    "chain_two = LLMChain(llm=llm, prompt=second_prompt)\n",
    "\n",
    "# Create the SimpleSequentialChain\n",
    "overall_simple_chain = SimpleSequentialChain(\n",
    "    chains=[chain_one, chain_two], verbose=True\n",
    ")\n",
    "\n",
    "overall_simple_chain.invoke(product)"
   ]
  },
  {
   "cell_type": "markdown",
   "id": "7b5ce18c",
   "metadata": {},
   "source": [
    "## SequentialChain"
   ]
  },
  {
   "cell_type": "code",
   "execution_count": 23,
   "id": "4c129ef6",
   "metadata": {},
   "outputs": [],
   "source": [
    "from langchain.chains import SequentialChain"
   ]
  },
  {
   "cell_type": "code",
   "execution_count": 24,
   "id": "016187ac",
   "metadata": {},
   "outputs": [],
   "source": [
    "llm = ChatOpenAI(temperature=0.9)\n",
    "\n",
    "\n",
    "# Define prompt template 1: Translate a review into English\n",
    "first_prompt = ChatPromptTemplate.from_template(\n",
    "    \"Translate the following review into English:\\n\\n{review_text}\\n\\n\"\n",
    ")\n",
    "\n",
    "# Chain 1: Translate review\n",
    "chain_one = LLMChain(llm=llm, prompt=first_prompt, output_key=\"translated_review\")\n"
   ]
  },
  {
   "cell_type": "code",
   "execution_count": 25,
   "id": "0fb0730e",
   "metadata": {},
   "outputs": [],
   "source": [
    "# Define prompt template 2: Summarize a review\n",
    "second_prompt = ChatPromptTemplate.from_template(\n",
    "    \"Write a summary of the translated review: {translated_review}\"\n",
    ")\n",
    "\n",
    "# Chain 2: Summarize translated review\n",
    "chain_two = LLMChain(llm=llm, prompt=second_prompt, output_key=\"summary\")\n"
   ]
  },
  {
   "cell_type": "code",
   "execution_count": 26,
   "id": "6accf92d",
   "metadata": {},
   "outputs": [],
   "source": [
    "# prompt template 3: translate to english or other language\n",
    "third_prompt = ChatPromptTemplate.from_template(\n",
    "    \"Translate the summary into another language: {summary}\"\n",
    ")\n",
    "\n",
    "# Chain 3: Translate summary to another language\n",
    "chain_three = LLMChain(llm=llm, prompt=third_prompt, output_key=\"translated_summary\")\n"
   ]
  },
  {
   "cell_type": "code",
   "execution_count": 27,
   "id": "c7a46121",
   "metadata": {},
   "outputs": [],
   "source": [
    "# prompt template 4: follow up message that take as inputs the two previous prompts' variables\n",
    "fourth_prompt = ChatPromptTemplate.from_template(\n",
    "    \"Given the translated review:\\n\\n{translated_review}\\n\\n\"\n",
    "    \"and its summary:\\n\\n{summary}\\n\\n\"\n",
    "    \"please generate a follow-up message responding to the review.\"\n",
    ")\n",
    "\n",
    "# Chain 4: Generate follow-up message\n",
    "chain_four = LLMChain(llm=llm, prompt=fourth_prompt, output_key=\"follow_up_message\")"
   ]
  },
  {
   "cell_type": "code",
   "execution_count": 43,
   "id": "89603117",
   "metadata": {},
   "outputs": [],
   "source": [
    "# overall_chain: input= Review \n",
    "# and output= English_Review,summary, followup_message\n",
    "\n",
    "overall_chain = SequentialChain(\n",
    "    chains=[chain_one, chain_two, chain_three, chain_four],\n",
    "    input_variables=[\"review_text\"],  # Input variable for the whole process\n",
    "    output_variables=[\"translated_review\", \"summary\", \"translated_summary\", \"follow_up_message\"],  # Output variables\n",
    "    verbose=True  # Enable verbose mode for debugging or logging\n",
    ")"
   ]
  },
  {
   "cell_type": "code",
   "execution_count": 40,
   "id": "c64587b6-d4c3-4d7e-bb9f-6f8bd716f51e",
   "metadata": {},
   "outputs": [
    {
     "name": "stdout",
     "output_type": "stream",
     "text": [
      "\n",
      "\n",
      "\u001b[1m> Entering new SequentialChain chain...\u001b[0m\n",
      "\n",
      "\n",
      "\u001b[1m> Entering new LLMChain chain...\u001b[0m\n",
      "Prompt after formatting:\n",
      "\u001b[32;1m\u001b[1;3mHuman: Translate the following review into Spanish:\n",
      "\n",
      "This product exceeded my expectations. It is well-built and performs flawlessly.\n",
      "\n",
      "\u001b[0m\n",
      "\n",
      "\u001b[1m> Finished chain.\u001b[0m\n",
      "\n",
      "\n",
      "\u001b[1m> Entering new LLMChain chain...\u001b[0m\n",
      "Prompt after formatting:\n",
      "\u001b[32;1m\u001b[1;3mHuman: Write a summary of the translated review: Este producto superó mis expectativas. Está bien construido y funciona a la perfección.\u001b[0m\n",
      "\n",
      "\u001b[1m> Finished chain.\u001b[0m\n",
      "\n",
      "\n",
      "\u001b[1m> Entering new LLMChain chain...\u001b[0m\n",
      "Prompt after formatting:\n",
      "\u001b[32;1m\u001b[1;3mHuman: Translate the summary into Spanish: This product exceeded my expectations. It is well-built and works perfectly.\u001b[0m\n",
      "\n",
      "\u001b[1m> Finished chain.\u001b[0m\n",
      "\n",
      "\n",
      "\u001b[1m> Entering new LLMChain chain...\u001b[0m\n",
      "Prompt after formatting:\n",
      "\u001b[32;1m\u001b[1;3mHuman: Given the translated review:\n",
      "\n",
      "Este producto superó mis expectativas. Está bien construido y funciona a la perfección.\n",
      "\n",
      "and its summary:\n",
      "\n",
      "This product exceeded my expectations. It is well-built and works perfectly.\n",
      "\n",
      "please generate a follow-up message responding to the review.\u001b[0m\n",
      "\n",
      "\u001b[1m> Finished chain.\u001b[0m\n",
      "\n",
      "\u001b[1m> Finished chain.\u001b[0m\n"
     ]
    }
   ],
   "source": [
    "# Example usage: Invoke the overall_chain with a review text\n",
    "review_text = \"This product exceeded my expectations. It is well-built and performs flawlessly.\"\n",
    "result = overall_chain.invoke(review_text)"
   ]
  },
  {
   "cell_type": "code",
   "execution_count": 41,
   "id": "51b04f45",
   "metadata": {},
   "outputs": [
    {
     "name": "stdout",
     "output_type": "stream",
     "text": [
      "\n",
      "\n",
      "\u001b[1m> Entering new SequentialChain chain...\u001b[0m\n",
      "\n",
      "\n",
      "\u001b[1m> Entering new LLMChain chain...\u001b[0m\n",
      "Prompt after formatting:\n",
      "\u001b[32;1m\u001b[1;3mHuman: Translate the following review into Spanish:\n",
      "\n",
      "This product exceeded my expectations. It is well-built and performs flawlessly.\n",
      "\n",
      "\u001b[0m\n",
      "\n",
      "\u001b[1m> Finished chain.\u001b[0m\n",
      "\n",
      "\n",
      "\u001b[1m> Entering new LLMChain chain...\u001b[0m\n",
      "Prompt after formatting:\n",
      "\u001b[32;1m\u001b[1;3mHuman: Write a summary of the translated review: Este producto superó mis expectativas. Está bien construido y funciona perfectamente.\u001b[0m\n",
      "\n",
      "\u001b[1m> Finished chain.\u001b[0m\n",
      "\n",
      "\n",
      "\u001b[1m> Entering new LLMChain chain...\u001b[0m\n",
      "Prompt after formatting:\n",
      "\u001b[32;1m\u001b[1;3mHuman: Translate the summary into Spanish: This product exceeded my expectations. It is well-built and works perfectly.\u001b[0m\n",
      "\n",
      "\u001b[1m> Finished chain.\u001b[0m\n",
      "\n",
      "\n",
      "\u001b[1m> Entering new LLMChain chain...\u001b[0m\n",
      "Prompt after formatting:\n",
      "\u001b[32;1m\u001b[1;3mHuman: Given the translated review:\n",
      "\n",
      "Este producto superó mis expectativas. Está bien construido y funciona perfectamente.\n",
      "\n",
      "and its summary:\n",
      "\n",
      "This product exceeded my expectations. It is well-built and works perfectly.\n",
      "\n",
      "please generate a follow-up message responding to the review.\u001b[0m\n",
      "\n",
      "\u001b[1m> Finished chain.\u001b[0m\n",
      "\n",
      "\u001b[1m> Finished chain.\u001b[0m\n"
     ]
    },
    {
     "data": {
      "text/plain": [
       "{'review_text': 'This product exceeded my expectations. It is well-built and performs flawlessly.',\n",
       " 'translated_review': 'Este producto superó mis expectativas. Está bien construido y funciona perfectamente.',\n",
       " 'summary': 'This product exceeded my expectations. It is well-built and works perfectly.',\n",
       " 'translated_summary': 'Este producto superó mis expectativas. Está bien construido y funciona perfectamente.',\n",
       " 'follow_up_message': \"Thank you for your positive feedback! We are thrilled to hear that our product exceeded your expectations and that it is working perfectly for you. If you have any questions or need further assistance, please don't hesitate to reach out. We appreciate your support!\"}"
      ]
     },
     "execution_count": 41,
     "metadata": {},
     "output_type": "execute_result"
    }
   ],
   "source": [
    "review = df.Review[5]\n",
    "overall_chain.invoke(review_text)"
   ]
  },
  {
   "cell_type": "markdown",
   "id": "3187cf07-458a-4226-bec7-3dec7ee47af2",
   "metadata": {},
   "source": [
    "**Repeat the above twice for different products or reviews**"
   ]
  },
  {
   "cell_type": "code",
   "execution_count": 46,
   "id": "0892f86e-8c5c-4c86-854b-92c873dd155d",
   "metadata": {},
   "outputs": [
    {
     "name": "stdout",
     "output_type": "stream",
     "text": [
      "Processing Review 1:\n",
      "This product exceeded my expectations. It is well-built and performs flawlessly.\n",
      "\n",
      "\n",
      "\n",
      "\u001b[1m> Entering new SequentialChain chain...\u001b[0m\n",
      "\n",
      "\n",
      "\u001b[1m> Entering new LLMChain chain...\u001b[0m\n",
      "Prompt after formatting:\n",
      "\u001b[32;1m\u001b[1;3mHuman: Translate the following review into Spanish:\n",
      "\n",
      "This product exceeded my expectations. It is well-built and performs flawlessly.\n",
      "\n",
      "\u001b[0m\n",
      "\n",
      "\u001b[1m> Finished chain.\u001b[0m\n",
      "\n",
      "\n",
      "\u001b[1m> Entering new LLMChain chain...\u001b[0m\n",
      "Prompt after formatting:\n",
      "\u001b[32;1m\u001b[1;3mHuman: Write a summary of the translated review: Este producto superó mis expectativas. Está bien construido y funciona perfectamente.\u001b[0m\n",
      "\n",
      "\u001b[1m> Finished chain.\u001b[0m\n",
      "\n",
      "\n",
      "\u001b[1m> Entering new LLMChain chain...\u001b[0m\n",
      "Prompt after formatting:\n",
      "\u001b[32;1m\u001b[1;3mHuman: Translate the summary into Spanish: This product exceeded my expectations. It is well-built and works perfectly.\u001b[0m\n",
      "\n",
      "\u001b[1m> Finished chain.\u001b[0m\n",
      "\n",
      "\n",
      "\u001b[1m> Entering new LLMChain chain...\u001b[0m\n",
      "Prompt after formatting:\n",
      "\u001b[32;1m\u001b[1;3mHuman: Given the translated review:\n",
      "\n",
      "Este producto superó mis expectativas. Está bien construido y funciona perfectamente.\n",
      "\n",
      "and its summary:\n",
      "\n",
      "This product exceeded my expectations. It is well-built and works perfectly.\n",
      "\n",
      "please generate a follow-up message responding to the review.\u001b[0m\n",
      "\n",
      "\u001b[1m> Finished chain.\u001b[0m\n",
      "\n",
      "\u001b[1m> Finished chain.\u001b[0m\n",
      "\n",
      "Verbose Result for Product 1:\n",
      "{'review_text': 'This product exceeded my expectations. It is well-built and performs flawlessly.', 'translated_review': 'Este producto superó mis expectativas. Está bien construido y funciona perfectamente.', 'summary': 'This product exceeded my expectations. It is well-built and works perfectly.', 'translated_summary': 'Este producto superó mis expectativas. Está bien construido y funciona perfectamente.', 'follow_up_message': \"Thank you for your positive feedback! We are thrilled to hear that our product exceeded your expectations and that it is working perfectly for you. If you have any questions or need further assistance, please don't hesitate to reach out. We are here to help. Thank you for choosing our product!\"}\n",
      "\n",
      "Processing Review 2:\n",
      "The customer service was excellent, and the product quality exceeded my expectations.\n",
      "\n",
      "\n",
      "\n",
      "\u001b[1m> Entering new SequentialChain chain...\u001b[0m\n",
      "\n",
      "\n",
      "\u001b[1m> Entering new LLMChain chain...\u001b[0m\n",
      "Prompt after formatting:\n",
      "\u001b[32;1m\u001b[1;3mHuman: Translate the following review into Spanish:\n",
      "\n",
      "The customer service was excellent, and the product quality exceeded my expectations.\n",
      "\n",
      "\u001b[0m\n",
      "\n",
      "\u001b[1m> Finished chain.\u001b[0m\n",
      "\n",
      "\n",
      "\u001b[1m> Entering new LLMChain chain...\u001b[0m\n",
      "Prompt after formatting:\n",
      "\u001b[32;1m\u001b[1;3mHuman: Write a summary of the translated review: El servicio al cliente fue excelente, y la calidad del producto superó mis expectativas.\u001b[0m\n",
      "\n",
      "\u001b[1m> Finished chain.\u001b[0m\n",
      "\n",
      "\n",
      "\u001b[1m> Entering new LLMChain chain...\u001b[0m\n",
      "Prompt after formatting:\n",
      "\u001b[32;1m\u001b[1;3mHuman: Translate the summary into Spanish: The customer service was excellent and the quality of the product exceeded my expectations.\u001b[0m\n",
      "\n",
      "\u001b[1m> Finished chain.\u001b[0m\n",
      "\n",
      "\n",
      "\u001b[1m> Entering new LLMChain chain...\u001b[0m\n",
      "Prompt after formatting:\n",
      "\u001b[32;1m\u001b[1;3mHuman: Given the translated review:\n",
      "\n",
      "El servicio al cliente fue excelente, y la calidad del producto superó mis expectativas.\n",
      "\n",
      "and its summary:\n",
      "\n",
      "The customer service was excellent and the quality of the product exceeded my expectations.\n",
      "\n",
      "please generate a follow-up message responding to the review.\u001b[0m\n",
      "\n",
      "\u001b[1m> Finished chain.\u001b[0m\n",
      "\n",
      "\u001b[1m> Finished chain.\u001b[0m\n",
      "\n",
      "Verbose Result for Product 2:\n",
      "{'review_text': 'The customer service was excellent, and the product quality exceeded my expectations.', 'translated_review': 'El servicio al cliente fue excelente, y la calidad del producto superó mis expectativas.', 'summary': 'The customer service was excellent and the quality of the product exceeded my expectations.', 'translated_summary': 'El servicio al cliente fue excelente y la calidad del producto superó mis expectativas.', 'follow_up_message': \"Thank you so much for your kind words! We are thrilled to hear that you had such a positive experience with our customer service and that the product quality exceeded your expectations. We strive to provide our customers with the best possible service and products, and we are delighted to know that we succeeded in doing so for you. Please don't hesitate to reach out if you have any further feedback or if there is anything else we can assist you with. We look forward to serving you again in the future. Thank you for choosing us!\"}\n"
     ]
    }
   ],
   "source": [
    "# Example usage: Invoke the overall_chain with the first review text\n",
    "review_text1 = \"This product exceeded my expectations. It is well-built and performs flawlessly.\"\n",
    "print(f\"Processing Review 1:\\n{review_text1}\\n\")\n",
    "result1 = overall_chain.invoke(review_text1)\n",
    "\n",
    "# Print the detailed result of the first product\n",
    "print(\"\\nVerbose Result for Product 1:\")\n",
    "print(result1)\n",
    "print()\n",
    "\n",
    "# Example usage: Invoke the overall_chain with the second review text\n",
    "review_text2 = \"The customer service was excellent, and the product quality exceeded my expectations.\"\n",
    "print(f\"Processing Review 2:\\n{review_text2}\\n\")\n",
    "result2 = overall_chain.invoke(review_text2)\n",
    "\n",
    "# Print the detailed result of the second product\n",
    "print(\"\\nVerbose Result for Product 2:\")\n",
    "print(result2)"
   ]
  },
  {
   "cell_type": "markdown",
   "id": "3041ea4c",
   "metadata": {},
   "source": [
    "## Router Chain"
   ]
  },
  {
   "cell_type": "code",
   "execution_count": 47,
   "id": "ade83f4f",
   "metadata": {},
   "outputs": [],
   "source": [
    "physics_template = \"\"\"You are a very smart physics professor. \\\n",
    "You are great at answering questions about physics in a concise\\\n",
    "and easy to understand manner. \\\n",
    "When you don't know the answer to a question you admit\\\n",
    "that you don't know.\n",
    "\n",
    "Here is a question:\n",
    "{input}\"\"\"\n",
    "\n",
    "\n",
    "math_template = \"\"\"You are a very good mathematician. \\\n",
    "You are great at answering math questions. \\\n",
    "You are so good because you are able to break down \\\n",
    "hard problems into their component parts, \n",
    "answer the component parts, and then put them together\\\n",
    "to answer the broader question.\n",
    "\n",
    "Here is a question:\n",
    "{input}\"\"\"\n",
    "\n",
    "history_template = \"\"\"You are a very good historian. \\\n",
    "You have an excellent knowledge of and understanding of people,\\\n",
    "events and contexts from a range of historical periods. \\\n",
    "You have the ability to think, reflect, debate, discuss and \\\n",
    "evaluate the past. You have a respect for historical evidence\\\n",
    "and the ability to make use of it to support your explanations \\\n",
    "and judgements.\n",
    "\n",
    "Here is a question:\n",
    "{input}\"\"\"\n",
    "\n",
    "\n",
    "computerscience_template = \"\"\" You are a successful computer scientist.\\\n",
    "You have a passion for creativity, collaboration,\\\n",
    "forward-thinking, confidence, strong problem-solving capabilities,\\\n",
    "understanding of theories and algorithms, and excellent communication \\\n",
    "skills. You are great at answering coding questions. \\\n",
    "You are so good because you know how to solve a problem by \\\n",
    "describing the solution in imperative steps \\\n",
    "that a machine can easily interpret and you know how to \\\n",
    "choose a solution that has a good balance between \\\n",
    "time complexity and space complexity. \n",
    "\n",
    "Here is a question:\n",
    "{input}\"\"\""
   ]
  },
  {
   "cell_type": "code",
   "execution_count": 48,
   "id": "5f590e9f",
   "metadata": {},
   "outputs": [],
   "source": [
    "prompt_infos = [\n",
    "    {\n",
    "        \"name\": \"physics\", \n",
    "        \"description\": \"Good for answering questions about physics\", \n",
    "        \"prompt_template\": physics_template\n",
    "    },\n",
    "    {\n",
    "        \"name\": \"math\", \n",
    "        \"description\": \"Good for answering math questions\", \n",
    "        \"prompt_template\": math_template\n",
    "    },\n",
    "    {\n",
    "        \"name\": \"History\", \n",
    "        \"description\": \"Good for answering history questions\", \n",
    "        \"prompt_template\": history_template\n",
    "    },\n",
    "    {\n",
    "        \"name\": \"computer science\", \n",
    "        \"description\": \"Good for answering computer science questions\", \n",
    "        \"prompt_template\": computerscience_template\n",
    "    }\n",
    "]"
   ]
  },
  {
   "cell_type": "code",
   "execution_count": 49,
   "id": "31b06fc8",
   "metadata": {},
   "outputs": [],
   "source": [
    "from langchain.chains.router import MultiPromptChain\n",
    "from langchain.chains.router.llm_router import LLMRouterChain,RouterOutputParser"
   ]
  },
  {
   "cell_type": "code",
   "execution_count": 50,
   "id": "f3f50bcc",
   "metadata": {},
   "outputs": [],
   "source": [
    "llm = ChatOpenAI(temperature=0)"
   ]
  },
  {
   "cell_type": "code",
   "execution_count": 51,
   "id": "8eefec24",
   "metadata": {},
   "outputs": [],
   "source": [
    "destination_chains = {}\n",
    "for p_info in prompt_infos:\n",
    "    name = p_info[\"name\"]\n",
    "    prompt_template = p_info[\"prompt_template\"]\n",
    "    prompt = ChatPromptTemplate.from_template(template=prompt_template)\n",
    "    chain = LLMChain(llm=llm, prompt=prompt)\n",
    "    destination_chains[name] = chain  \n",
    "    \n",
    "destinations = [f\"{p['name']}: {p['description']}\" for p in prompt_infos]\n",
    "destinations_str = \"\\n\".join(destinations)"
   ]
  },
  {
   "cell_type": "code",
   "execution_count": 52,
   "id": "9f98018a",
   "metadata": {},
   "outputs": [],
   "source": [
    "default_prompt = ChatPromptTemplate.from_template(\"{input}\")\n",
    "default_chain = LLMChain(llm=llm, prompt=default_prompt)"
   ]
  },
  {
   "cell_type": "code",
   "execution_count": 53,
   "id": "11b2e2ba",
   "metadata": {},
   "outputs": [],
   "source": [
    "MULTI_PROMPT_ROUTER_TEMPLATE = \"\"\"Given a raw text input to a \\\n",
    "language model select the model prompt best suited for the input. \\\n",
    "You will be given the names of the available prompts and a \\\n",
    "description of what the prompt is best suited for. \\\n",
    "You may also revise the original input if you think that revising\\\n",
    "it will ultimately lead to a better response from the language model.\n",
    "\n",
    "<< FORMATTING >>\n",
    "Return a markdown code snippet with a JSON object formatted to look like:\n",
    "```json\n",
    "{{{{\n",
    "    \"destination\": string \\ name of the prompt to use or \"DEFAULT\"\n",
    "    \"next_inputs\": string \\ a potentially modified version of the original input\n",
    "}}}}\n",
    "```\n",
    "\n",
    "REMEMBER: \"destination\" MUST be one of the candidate prompt \\\n",
    "names specified below OR it can be \"DEFAULT\" if the input is not\\\n",
    "well suited for any of the candidate prompts.\n",
    "REMEMBER: \"next_inputs\" can just be the original input \\\n",
    "if you don't think any modifications are needed.\n",
    "\n",
    "<< CANDIDATE PROMPTS >>\n",
    "{destinations}\n",
    "\n",
    "<< INPUT >>\n",
    "{{input}}\n",
    "\n",
    "<< OUTPUT (remember to include the ```json)>>\"\"\""
   ]
  },
  {
   "cell_type": "code",
   "execution_count": 54,
   "id": "1387109d",
   "metadata": {},
   "outputs": [],
   "source": [
    "router_template = MULTI_PROMPT_ROUTER_TEMPLATE.format(\n",
    "    destinations=destinations_str\n",
    ")\n",
    "router_prompt = PromptTemplate(\n",
    "    template=router_template,\n",
    "    input_variables=[\"input\"],\n",
    "    output_parser=RouterOutputParser(),\n",
    ")\n",
    "\n",
    "router_chain = LLMRouterChain.from_llm(llm, router_prompt)"
   ]
  },
  {
   "cell_type": "code",
   "execution_count": 55,
   "id": "2fb7d560",
   "metadata": {},
   "outputs": [],
   "source": [
    "chain = MultiPromptChain(router_chain=router_chain, \n",
    "                         destination_chains=destination_chains, \n",
    "                         default_chain=default_chain, verbose=True\n",
    "                        )"
   ]
  },
  {
   "cell_type": "code",
   "execution_count": 56,
   "id": "d86b2131",
   "metadata": {},
   "outputs": [
    {
     "name": "stdout",
     "output_type": "stream",
     "text": [
      "\n",
      "\n",
      "\u001b[1m> Entering new MultiPromptChain chain...\u001b[0m\n",
      "physics: {'input': 'What is black body radiation?'}\n",
      "\u001b[1m> Finished chain.\u001b[0m\n"
     ]
    },
    {
     "data": {
      "text/plain": [
       "\"Black body radiation is the electromagnetic radiation emitted by a perfect absorber and emitter of radiation, known as a black body. A black body absorbs all radiation that falls on it and emits radiation at all wavelengths. The spectrum of black body radiation is continuous and depends only on the temperature of the black body. This phenomenon is described by Planck's law, which states that the intensity of radiation emitted by a black body at a given wavelength is proportional to the temperature of the body and inversely proportional to the fourth power of the wavelength.\""
      ]
     },
     "execution_count": 56,
     "metadata": {},
     "output_type": "execute_result"
    }
   ],
   "source": [
    "chain.run(\"What is black body radiation?\")"
   ]
  },
  {
   "cell_type": "code",
   "execution_count": 57,
   "id": "3b717379",
   "metadata": {},
   "outputs": [
    {
     "name": "stdout",
     "output_type": "stream",
     "text": [
      "\n",
      "\n",
      "\u001b[1m> Entering new MultiPromptChain chain...\u001b[0m\n",
      "math: {'input': 'what is 2 + 2'}\n",
      "\u001b[1m> Finished chain.\u001b[0m\n"
     ]
    },
    {
     "data": {
      "text/plain": [
       "'The answer to 2 + 2 is 4.'"
      ]
     },
     "execution_count": 57,
     "metadata": {},
     "output_type": "execute_result"
    }
   ],
   "source": [
    "chain.run(\"what is 2 + 2\")"
   ]
  },
  {
   "cell_type": "code",
   "execution_count": 59,
   "id": "29e5be01",
   "metadata": {},
   "outputs": [
    {
     "name": "stdout",
     "output_type": "stream",
     "text": [
      "\n",
      "\n",
      "\u001b[1m> Entering new MultiPromptChain chain...\u001b[0m\n",
      "History: {'input': 'Who was the first man on the moon?'}\n",
      "\u001b[1m> Finished chain.\u001b[0m\n"
     ]
    },
    {
     "data": {
      "text/plain": [
       "'The first man on the moon was Neil Armstrong, an American astronaut who was part of the Apollo 11 mission in 1969. He famously said, \"That\\'s one small step for man, one giant leap for mankind,\" as he became the first human to set foot on the lunar surface.'"
      ]
     },
     "execution_count": 59,
     "metadata": {},
     "output_type": "execute_result"
    }
   ],
   "source": [
    "chain.run(\"Who was the first man on the moon?\")"
   ]
  },
  {
   "cell_type": "markdown",
   "id": "09e0c60b-7ae0-453e-9467-142d8dafee6e",
   "metadata": {},
   "source": [
    "**Repeat the above at least once for different inputs and chains executions - Be creative!**"
   ]
  },
  {
   "cell_type": "code",
   "execution_count": null,
   "id": "d039da8e-4237-4ada-b322-e7f8eb417156",
   "metadata": {},
   "outputs": [],
   "source": []
  }
 ],
 "metadata": {
  "kernelspec": {
   "display_name": "Python 3 (ipykernel)",
   "language": "python",
   "name": "python3"
  },
  "language_info": {
   "codemirror_mode": {
    "name": "ipython",
    "version": 3
   },
   "file_extension": ".py",
   "mimetype": "text/x-python",
   "name": "python",
   "nbconvert_exporter": "python",
   "pygments_lexer": "ipython3",
   "version": "3.12.4"
  }
 },
 "nbformat": 4,
 "nbformat_minor": 5
}
